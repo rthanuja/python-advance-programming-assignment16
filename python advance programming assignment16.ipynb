{
 "cells": [
  {
   "cell_type": "code",
   "execution_count": 1,
   "id": "b6b1d6af",
   "metadata": {},
   "outputs": [],
   "source": [
    "'''1. Rondo Form is a type of musical structure, in which there is a recurring theme/refrain, notated as A. Here are the\n",
    "rules for valid rondo forms:\n",
    "- Rondo forms always start and end with an A section.\n",
    "- In between the A sections,there should be contrasting sections notated as B,then C,then D, etc... No letter should be skipped.\n",
    "- There shouldn&#39;t be any repeats in the sequence (such as ABBACCA).\n",
    "Create a function which validates whether a given string is a valid Rondo Form.'''\n",
    "def valid_rondo(s):\n",
    "    c=\"ABCDEFGHIJKLMNOPQRSTUVWXYZ\"\n",
    "    if len(s)<2 or s[0]!=\"A\" or s[-1]!=\"A\":\n",
    "        return False\n",
    "    else:\n",
    "        s=s.split(\"A\")\n",
    "        s=\"\".join(s)\n",
    "        if s in c:\n",
    "            return True\n",
    "        else:\n",
    "            return False        "
   ]
  },
  {
   "cell_type": "code",
   "execution_count": 2,
   "id": "7ec0ff8f",
   "metadata": {},
   "outputs": [
    {
     "data": {
      "text/plain": [
       "True"
      ]
     },
     "execution_count": 2,
     "metadata": {},
     "output_type": "execute_result"
    }
   ],
   "source": [
    "valid_rondo(\"ABACADAEAFAGAHAIAJA\") "
   ]
  },
  {
   "cell_type": "code",
   "execution_count": 3,
   "id": "bae18518",
   "metadata": {},
   "outputs": [
    {
     "data": {
      "text/plain": [
       "True"
      ]
     },
     "execution_count": 3,
     "metadata": {},
     "output_type": "execute_result"
    }
   ],
   "source": [
    "valid_rondo(\"ABA\") "
   ]
  },
  {
   "cell_type": "code",
   "execution_count": 4,
   "id": "4f8291c5",
   "metadata": {},
   "outputs": [
    {
     "data": {
      "text/plain": [
       "False"
      ]
     },
     "execution_count": 4,
     "metadata": {},
     "output_type": "execute_result"
    }
   ],
   "source": [
    "valid_rondo(\"ABBACCA\") "
   ]
  },
  {
   "cell_type": "code",
   "execution_count": 5,
   "id": "c598a61b",
   "metadata": {},
   "outputs": [
    {
     "data": {
      "text/plain": [
       "False"
      ]
     },
     "execution_count": 5,
     "metadata": {},
     "output_type": "execute_result"
    }
   ],
   "source": [
    "valid_rondo(\"ACAC\") "
   ]
  },
  {
   "cell_type": "code",
   "execution_count": 6,
   "id": "0fecf618",
   "metadata": {},
   "outputs": [
    {
     "data": {
      "text/plain": [
       "False"
      ]
     },
     "execution_count": 6,
     "metadata": {},
     "output_type": "execute_result"
    }
   ],
   "source": [
    "valid_rondo(\"A\") "
   ]
  },
  {
   "cell_type": "code",
   "execution_count": 7,
   "id": "a32be6d6",
   "metadata": {},
   "outputs": [],
   "source": [
    "'''2. Create a function that returns the whole of the first sentence which contains a specific word. Include the full stop \n",
    "at the end of the sentence.'''\n",
    "def sentence_searcher(s,w):\n",
    "    s=s.split(\".\")\n",
    "    for i in s:\n",
    "        if w.upper() in i.upper():\n",
    "            i=i.strip()\n",
    "            return i+\".\"\n",
    "        elif w.lower() in i.lower():\n",
    "            i=i.strip()\n",
    "            return i+\".\"\n",
    "    return \"\"\n",
    "        "
   ]
  },
  {
   "cell_type": "code",
   "execution_count": 8,
   "id": "bdd11ceb",
   "metadata": {},
   "outputs": [
    {
     "data": {
      "text/plain": [
       "'I have a cat.'"
      ]
     },
     "execution_count": 8,
     "metadata": {},
     "output_type": "execute_result"
    }
   ],
   "source": [
    "sentence_searcher(\"I have a cat. I have a mat. Things are going well.\", \"have\") "
   ]
  },
  {
   "cell_type": "code",
   "execution_count": 9,
   "id": "5b9947c4",
   "metadata": {},
   "outputs": [
    {
     "data": {
      "text/plain": [
       "'I have a mat.'"
      ]
     },
     "execution_count": 9,
     "metadata": {},
     "output_type": "execute_result"
    }
   ],
   "source": [
    "sentence_searcher(\"I have a cat. I have a mat. Things are going well.\", \"MAT\") "
   ]
  },
  {
   "cell_type": "code",
   "execution_count": 10,
   "id": "b734ba8f",
   "metadata": {},
   "outputs": [
    {
     "data": {
      "text/plain": [
       "'Things are going well.'"
      ]
     },
     "execution_count": 10,
     "metadata": {},
     "output_type": "execute_result"
    }
   ],
   "source": [
    "sentence_searcher(\"I have a cat. I have a mat. Things are going well.\", \"things\") "
   ]
  },
  {
   "cell_type": "code",
   "execution_count": 11,
   "id": "23c75ee3",
   "metadata": {},
   "outputs": [
    {
     "data": {
      "text/plain": [
       "''"
      ]
     },
     "execution_count": 11,
     "metadata": {},
     "output_type": "execute_result"
    }
   ],
   "source": [
    "sentence_searcher(\"I have a cat. I have a mat. Things are going well.\", \"flat\") "
   ]
  },
  {
   "cell_type": "code",
   "execution_count": 12,
   "id": "bbc62ee2",
   "metadata": {},
   "outputs": [],
   "source": [
    "'''3. Given a number, find the \"round\" of each digit of the number. An integer is called \"round\" if all its digits except the \n",
    "leftmost (most significant) are equal to zero.\n",
    "- Round numbers: 4000, 1, 9, 800, 90\n",
    "- Not round numbers: 110, 707, 222, 1001\n",
    "Create a function that takes a number and returns the \"round\" of each digit (except if the digit is zero) as a string.'''\n",
    "def sum_round(n):\n",
    "    l=0\n",
    "    s=\"\"\n",
    "    for i in str(n)[::-1]:\n",
    "        if i==\"0\":\n",
    "            l+=1\n",
    "            continue\n",
    "        else:\n",
    "            s+=str(int(i)*(10**l))\n",
    "            s+=\" \"\n",
    "            l+=1\n",
    "    s=s.strip()\n",
    "    return s"
   ]
  },
  {
   "cell_type": "code",
   "execution_count": 13,
   "id": "a422a309",
   "metadata": {},
   "outputs": [
    {
     "data": {
      "text/plain": [
       "'1 100'"
      ]
     },
     "execution_count": 13,
     "metadata": {},
     "output_type": "execute_result"
    }
   ],
   "source": [
    "sum_round(101)"
   ]
  },
  {
   "cell_type": "code",
   "execution_count": 14,
   "id": "1d565d90",
   "metadata": {},
   "outputs": [
    {
     "data": {
      "text/plain": [
       "'4 30 200 1000'"
      ]
     },
     "execution_count": 14,
     "metadata": {},
     "output_type": "execute_result"
    }
   ],
   "source": [
    "sum_round(1234)"
   ]
  },
  {
   "cell_type": "code",
   "execution_count": 15,
   "id": "4432148e",
   "metadata": {},
   "outputs": [
    {
     "data": {
      "text/plain": [
       "'10 200 4000 50000'"
      ]
     },
     "execution_count": 15,
     "metadata": {},
     "output_type": "execute_result"
    }
   ],
   "source": [
    "sum_round(54210)"
   ]
  },
  {
   "cell_type": "code",
   "execution_count": 16,
   "id": "fd2ccc2c",
   "metadata": {},
   "outputs": [],
   "source": [
    "#4.Your task, is to create N x N multiplication table, of size n provided in parameter.\n",
    "def multiplication_table(n):\n",
    "    l=[]\n",
    "    for i in range(1,n+1): \n",
    "        r=[]\n",
    "        for j in range(1,n+1):\n",
    "            r.append(j*i)\n",
    "        l.append(r)\n",
    "    return l"
   ]
  },
  {
   "cell_type": "code",
   "execution_count": 17,
   "id": "6c289091",
   "metadata": {},
   "outputs": [
    {
     "data": {
      "text/plain": [
       "[[1]]"
      ]
     },
     "execution_count": 17,
     "metadata": {},
     "output_type": "execute_result"
    }
   ],
   "source": [
    "multiplication_table(1)"
   ]
  },
  {
   "cell_type": "code",
   "execution_count": 18,
   "id": "f5940251",
   "metadata": {},
   "outputs": [
    {
     "data": {
      "text/plain": [
       "[[1, 2, 3], [2, 4, 6], [3, 6, 9]]"
      ]
     },
     "execution_count": 18,
     "metadata": {},
     "output_type": "execute_result"
    }
   ],
   "source": [
    "multiplication_table(3)"
   ]
  },
  {
   "cell_type": "code",
   "execution_count": 19,
   "id": "6624f788",
   "metadata": {},
   "outputs": [],
   "source": [
    "'''5. Create a function that returns True if two lines rhyme and False otherwise. For the purposes of this exercise, two lines\n",
    "rhyme if the last word from each sentence contains the same vowels.'''\n",
    "import re\n",
    "def does_rhyme(s,t):\n",
    "    v=\"aeiou\"\n",
    "    s=s.lower().split()\n",
    "    t=t.lower().split()\n",
    "    s=re.findall(r'[a,e,i,o,u]',s[-1])\n",
    "    t=re.findall(r'[a,e,i,o,u]',t[-1])\n",
    "    if set(s)==set(t):\n",
    "        return True\n",
    "    else:\n",
    "        return False\n",
    "    \n",
    "    "
   ]
  },
  {
   "cell_type": "code",
   "execution_count": 20,
   "id": "fdf5be85",
   "metadata": {},
   "outputs": [
    {
     "data": {
      "text/plain": [
       "True"
      ]
     },
     "execution_count": 20,
     "metadata": {},
     "output_type": "execute_result"
    }
   ],
   "source": [
    "does_rhyme(\"Sam I am!\", \"Green eggs and ham.\") "
   ]
  },
  {
   "cell_type": "code",
   "execution_count": 21,
   "id": "b2184a27",
   "metadata": {},
   "outputs": [
    {
     "data": {
      "text/plain": [
       "True"
      ]
     },
     "execution_count": 21,
     "metadata": {},
     "output_type": "execute_result"
    }
   ],
   "source": [
    "does_rhyme(\"Sam I am!\", \"Green eggs and HAM.\")"
   ]
  },
  {
   "cell_type": "code",
   "execution_count": 22,
   "id": "fc5f1cfd",
   "metadata": {},
   "outputs": [
    {
     "data": {
      "text/plain": [
       "False"
      ]
     },
     "execution_count": 22,
     "metadata": {},
     "output_type": "execute_result"
    }
   ],
   "source": [
    "does_rhyme(\"You are off to the races\", \"a splendid day.\")"
   ]
  },
  {
   "cell_type": "code",
   "execution_count": 23,
   "id": "9af3a6d9",
   "metadata": {},
   "outputs": [
    {
     "data": {
      "text/plain": [
       "False"
      ]
     },
     "execution_count": 23,
     "metadata": {},
     "output_type": "execute_result"
    }
   ],
   "source": [
    "does_rhyme(\"and frequently do?\", \"you gotta move.\")"
   ]
  },
  {
   "cell_type": "code",
   "execution_count": null,
   "id": "7c602d37",
   "metadata": {},
   "outputs": [],
   "source": []
  },
  {
   "cell_type": "code",
   "execution_count": null,
   "id": "f25bf1e2",
   "metadata": {},
   "outputs": [],
   "source": []
  }
 ],
 "metadata": {
  "kernelspec": {
   "display_name": "Python 3 (ipykernel)",
   "language": "python",
   "name": "python3"
  },
  "language_info": {
   "codemirror_mode": {
    "name": "ipython",
    "version": 3
   },
   "file_extension": ".py",
   "mimetype": "text/x-python",
   "name": "python",
   "nbconvert_exporter": "python",
   "pygments_lexer": "ipython3",
   "version": "3.10.9"
  }
 },
 "nbformat": 4,
 "nbformat_minor": 5
}
